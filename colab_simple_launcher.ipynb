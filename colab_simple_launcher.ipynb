{
  "cells": [
    {
      "cell_type": "markdown",
      "metadata": {},
      "source": [
        "# Простий запуск main_launcher.py в Google Colab\n",
        "\n",
        "Цей notebook запускає `main_launcher.py` в середовищі Google Colab."
      ]
    },
    {
      "cell_type": "markdown",
      "metadata": {},
      "source": [
        "## 1. Клонування репозиторію"
      ]
    },
    {
      "cell_type": "code",
      "execution_count": null,
      "metadata": {},
      "outputs": [],
      "source": [
        "# Клонуємо репозиторій\n",
        "!git clone https://github.com/AndriiUriadov/DysonLine.git\n",
        "!cd DysonLine\n",
        "\n",
        "print(\"✅ Репозиторій клоновано!\")"
      ]
    },
    {
      "cell_type": "markdown",
      "metadata": {},
      "source": [
        "## 2. Встановлення залежностей"
      ]
    },
    {
      "cell_type": "code",
      "execution_count": null,
      "metadata": {},
      "outputs": [],
      "source": [
        "# Встановлюємо залежності\n",
        "!pip install gdown tensorflow scikit-learn matplotlib psutil\n",
        "\n",
        "print(\"✅ Залежності встановлено!\")"
      ]
    },
    {
      "cell_type": "markdown",
      "metadata": {},
      "source": [
        "## 3. Перевірка файлів"
      ]
    },
    {
      "cell_type": "code",
      "execution_count": null,
      "metadata": {},
      "outputs": [],
      "source": [
        "import os\n",
        "\n",
        "print(\"📁 Перевірка файлів:\")\n",
        "files = [\n",
        "    'main_launcher.py',\n",
        "    'config.py',\n",
        "    'data_loader.py',\n",
        "    'model.py',\n",
        "    'train.py',\n",
        "    'evaluate.py',\n",
        "    'utils.py'\n",
        "]\n",
        "\n",
        "for file in files:\n",
        "    if os.path.exists(file):\n",
        "        print(f\"  ✅ {file}\")\n",
        "    else:\n",
        "        print(f\"  ❌ {file}\")\n",
        "\n",
        "print(f\"\\n📂 Поточна директорія: {os.getcwd()}\")"
      ]
    },
    {
      "cell_type": "markdown",
      "metadata": {},
      "source": [
        "## 4. Запуск main_launcher.py"
      ]
    },
    {
      "cell_type": "code",
      "execution_count": null,
      "metadata": {},
      "outputs": [],
      "source": [
        "print(\"🚀 Запуск main_launcher.py...\")\n",
        "print(\"=\" * 50)\n",
        "\n",
        "!python main_launcher.py\n",
        "\n",
        "print(\"\\n✅ main_launcher.py виконано!\")"
      ]
    },
    {
      "cell_type": "markdown",
      "metadata": {},
      "source": [
        "## 5. Перевірка результатів"
      ]
    },
    {
      "cell_type": "code",
      "execution_count": null,
      "metadata": {},
      "outputs": [],
      "source": [
        "import glob\n",
        "\n",
        "print(\"📊 Результати виконання:\")\n",
        "\n",
        "# Перевіряємо збережені файли\n",
        "model_files = glob.glob(\"*.h5\") + glob.glob(\"*.keras\")\n",
        "if model_files:\n",
        "    print(\"\\n💾 Збережені моделі:\")\n",
        "    for file in model_files:\n",
        "        print(f\"  • {file}\")\n",
        "else:\n",
        "    print(\"\\n⚠️ Моделі не знайдено\")\n",
        "\n",
        "# Перевіряємо логи\n",
        "log_files = glob.glob(\"experiment_log_*.json\")\n",
        "if log_files:\n",
        "    print(\"\\n📝 Логи експериментів:\")\n",
        "    for file in log_files:\n",
        "        print(f\"  • {file}\")\n",
        "else:\n",
        "    print(\"\\n⚠️ Логи не знайдено\")\n",
        "\n",
        "# Перевіряємо параметри нормалізації\n",
        "if os.path.exists(\"normalization_params.npz\"):\n",
        "    print(\"\\n✅ Параметри нормалізації збережено\")\n",
        "else:\n",
        "    print(\"\\n⚠️ Параметри нормалізації не знайдено\")"
      ]
    }
  ],
  "metadata": {
    "kernelspec": {
      "display_name": "Python 3",
      "language": "python",
      "name": "python3"
    },
    "language_info": {
      "codemirror_mode": {
        "name": "ipython",
        "version": 3
      },
      "file_extension": ".py",
      "mimetype": "text/x-python",
      "name": "python",
      "nbconvert_exporter": "python",
      "pygments_lexer": "ipython3",
      "version": "3.8.5"
    }
  },
  "nbformat": 4,
  "nbformat_minor": 4
}