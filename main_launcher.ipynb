{
  "cells": [
    {
      "cell_type": "markdown",
      "metadata": {},
      "source": [
        "# DysonianLineCNN - Google Colab Launcher\n",
        "\n",
        "Цей ноутбук запускає навчання моделі CNN для передбачення параметрів лінії Дайсона.\n",
        "\n",
        "## Структура проєкту:\n",
        "- `config.py` - конфігурація параметрів\n",
        "- `data_loader.py` - завантаження та обробка даних\n",
        "- `model.py` - архітектура CNN моделі\n",
        "- `train.py` - навчання моделі\n",
        "- `evaluate.py` - оцінка та візуалізація\n",
        "- `utils.py` - допоміжні функції"
      ]
    },
    {
      "cell_type": "markdown",
      "metadata": {},
      "source": [
        "## 1. Клонування репозиторію та встановлення залежностей"
      ]
    },
    {
      "cell_type": "code",
      "execution_count": null,
      "metadata": {},
      "outputs": [],
      "source": [
        "# Клонуємо репозиторій\n",
        "!git clone https://github.com/AndriiUriadov/DysonLine.git\n",
        "!cd DysonLine\n",
        "\n",
        "# Встановлюємо залежності\n",
        "!pip install gdown tensorflow scikit-learn matplotlib psutil"
      ]
    },
    {
      "cell_type": "markdown",
      "metadata": {},
      "source": [
        "## 2. Перевірка системи"
      ]
    },
    {
      "cell_type": "code",
      "execution_count": null,
      "metadata": {},
      "outputs": [],
      "source": [
        "import sys\n",
        "sys.path.append('/content/DysonLine')\n",
        "\n",
        "from utils import print_system_info\n",
        "\n",
        "# Перевіряємо систему\n",
        "system_info = print_system_info()"
      ]
    },
    {
      "cell_type": "markdown",
      "metadata": {},
      "source": [
        "## 3. Завантаження та підготовка даних"
      ]
    },
    {
      "cell_type": "code",
      "execution_count": null,
      "metadata": {},
      "outputs": [],
      "source": [
        "from data_loader import load_and_prepare_data\n",
        "\n",
        "# Завантажуємо та підготовляємо дані\n",
        "data_dict = load_and_prepare_data()\n",
        "\n",
        "print(\"\\nДані готові для навчання!\")"
      ]
    },
    {
      "cell_type": "markdown",
      "metadata": {},
      "source": [
        "## 4. Створення та навчання моделі"
      ]
    },
    {
      "cell_type": "code",
      "execution_count": null,
      "metadata": {},
      "outputs": [],
      "source": [
        "from train import train_and_evaluate\n",
        "from utils import save_model_to_drive, save_normalization_params\n",
        "\n",
        "# Навчаємо модель\n",
        "model, history = train_and_evaluate(data_dict)\n",
        "\n",
        "# Зберігаємо модель на Google Drive\n",
        "save_model_to_drive(model)\n",
        "\n",
        "# Зберігаємо параметри нормалізації\n",
        "save_normalization_params(data_dict['y_min'], data_dict['y_max'])\n",
        "\n",
        "print(\"\\nНавчання завершено! Модель збережено.\")"
      ]
    },
    {
      "cell_type": "markdown",
      "metadata": {},
      "source": [
        "## 5. Оцінка моделі"
      ]
    },
    {
      "cell_type": "code",
      "execution_count": null,
      "metadata": {},
      "outputs": [],
      "source": [
        "from evaluate import evaluate_model\n",
        "\n",
        "# Оцінюємо модель на тестових даних\n",
        "metrics = evaluate_model(\n",
        "    model, \n",
        "    data_dict['X_test'], \n",
        "    data_dict['y_test'], \n",
        "    data_dict['y_min'], \n",
        "    data_dict['y_max']\n",
        ")\n",
        "\n",
        "print(\"\\nОцінка завершена!\")"
      ]
    },
    {
      "cell_type": "markdown",
      "metadata": {},
      "source": [
        "## 6. Збереження результатів"
      ]
    },
    {
      "cell_type": "code",
      "execution_count": null,
      "metadata": {},
      "outputs": [],
      "source": [
        "from utils import create_experiment_log\n",
        "from config import TRAINING_CONFIG, MODEL_CONFIG, LOSS_WEIGHTS\n",
        "\n",
        "# Створюємо лог експерименту\n",
        "config_dict = {\n",
        "    'training_config': TRAINING_CONFIG,\n",
        "    'model_config': MODEL_CONFIG,\n",
        "    'loss_weights': LOSS_WEIGHTS\n",
        "}\n",
        "\n",
        "create_experiment_log(\n",
        "    experiment_name=\"dysonian_line_cnn\",\n",
        "    config_dict=config_dict,\n",
        "    metrics_dict=metrics\n",
        ")\n",
        "\n",
        "print(\"\\nЕксперимент завершено успішно!\")"
      ]
    }
  ],
  "metadata": {
    "kernelspec": {
      "display_name": "Python 3",
      "language": "python",
      "name": "python3"
    },
    "language_info": {
      "codemirror_mode": {
        "name": "ipython",
        "version": 3
      },
      "file_extension": ".py",
      "mimetype": "text/x-python",
      "name": "python",
      "nbconvert_exporter": "python",
      "pygments_lexer": "ipython3",
      "version": "3.8.5"
    }
  },
  "nbformat": 4,
  "nbformat_minor": 4
}